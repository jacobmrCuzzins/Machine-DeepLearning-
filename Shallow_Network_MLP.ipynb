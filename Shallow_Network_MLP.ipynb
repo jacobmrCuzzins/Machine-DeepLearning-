{
  "nbformat": 4,
  "nbformat_minor": 0,
  "metadata": {
    "colab": {
      "provenance": [],
      "toc_visible": true,
      "gpuType": "V100",
      "include_colab_link": true
    },
    "kernelspec": {
      "name": "python3",
      "display_name": "Python 3"
    },
    "accelerator": "GPU"
  },
  "cells": [
    {
      "cell_type": "markdown",
      "metadata": {
        "id": "view-in-github",
        "colab_type": "text"
      },
      "source": [
        "<a href=\"https://colab.research.google.com/github/jacobmrCuzzins/Machine-DeepLearning-/blob/main/Shallow_Network_MLP.ipynb\" target=\"_parent\"><img src=\"https://colab.research.google.com/assets/colab-badge.svg\" alt=\"Open In Colab\"/></a>"
      ]
    },
    {
      "cell_type": "markdown",
      "metadata": {
        "id": "QC0Dh4dwQ0Iq"
      },
      "source": [
        "## Accessing Data from Google Drive\n",
        "The dataset for this assignment is the CIFAR-10 dataset that can be found here:\n",
        "https://www.cs.toronto.edu/~kriz/cifar.html\n",
        "\n",
        "The CIFAR-10 and CIFAR-100 are well studied, yet challenging image recognition dataset. The CIFAR-10 has up to 10 classes to classify and contains 60,000 32x32 images. You should read the description of the dataset and download the dataset for Python, that is\n",
        "\n",
        "CIFAR-10 python version: https://www.cs.toronto.edu/~kriz/cifar-10-python.tar.gz\n",
        "\n",
        "Once downloaded you need to then extract and upload the `cifar-10-batches-py` directory your Google Drive so that you can access it from within your Google Colab.\n",
        "\n",
        "You can mount the Google Drive from the menu on the left or uncomment use the code below mount the drive.  See here for documentation on file access in Colab:\n",
        "\n",
        "[External data: Local Files, Drive, Sheets, and Cloud Storage](https://colab.research.google.com/notebooks/io.ipynb)\n"
      ]
    },
    {
      "cell_type": "code",
      "metadata": {
        "id": "FqR-k4UDDltb",
        "colab": {
          "base_uri": "https://localhost:8080/"
        },
        "outputId": "41c9c201-9cbe-4540-bee1-190419fd69ba"
      },
      "source": [
        "from google.colab import drive\n",
        "drive.mount('/content/drive')"
      ],
      "execution_count": null,
      "outputs": [
        {
          "output_type": "stream",
          "name": "stdout",
          "text": [
            "Mounted at /content/drive\n"
          ]
        }
      ]
    },
    {
      "cell_type": "markdown",
      "metadata": {
        "id": "3s7DsaxDI2im"
      },
      "source": [
        "## Functions to work with CIFAR\n",
        "\n",
        "The functions below help with access to the CIFAR-10 data the you have downloaded."
      ]
    },
    {
      "cell_type": "code",
      "metadata": {
        "id": "nUSVhQr5KDv1"
      },
      "source": [
        "import pickle\n",
        "import numpy as np\n",
        "import pandas as pd\n",
        "\n",
        "def load_CIFAR_batch(filename, flatten=True, categorical=True):\n",
        "    \"\"\" load single batch of cifar \"\"\"\n",
        "    with open(filename, 'rb') as f:\n",
        "        datadict = pickle.load(f, encoding='bytes')\n",
        "        X = datadict[b'data']\n",
        "        X = X.reshape(10000, 3, 32, 32).transpose(0, 2, 3, 1).astype(\"float\")\n",
        "        if (flatten):\n",
        "          X = X.reshape(10000, 3072)\n",
        "        X = X.astype('float32')\n",
        "        X /= 255\n",
        "\n",
        "        y = datadict[b'labels']\n",
        "        y = np.array(y)\n",
        "        if (categorical):\n",
        "          y = pd.get_dummies(y).values\n",
        "\n",
        "        return X, y\n",
        "\n",
        "def load_CIFAR_meta(filename):\n",
        "  with open(filename,'rb') as f:\n",
        "    metadict = pickle.load(f, encoding='bytes')\n",
        "\n",
        "    class_labels = [ val.decode() for val in metadict.get(b'label_names') ]\n",
        "    return class_labels\n",
        "\n",
        "def get_image(X, index, nchans=3, size=32):\n",
        "  xi = X[index,:]\n",
        "  img = xi.reshape(32, 32, 3)\n",
        "  return img"
      ],
      "execution_count": null,
      "outputs": []
    },
    {
      "cell_type": "markdown",
      "metadata": {
        "id": "axqceDnNJVss"
      },
      "source": [
        "## Load the CIFAR data\n",
        "\n",
        "The CIFAR data has 5 batches of data and 1 test data set. Each batch is labelled\n",
        "- `data_batch_1`\n",
        "- `data_batch_2`\n",
        "- `data_batch_3`\n",
        "- `data_batch_4`\n",
        "- `data_batch_5`\n",
        "\n",
        "and a test set labelled\n",
        "- `test_batch`\n",
        "\n",
        "each batch has 10,000 images, so 50,000 training and 10,000 test images."
      ]
    },
    {
      "cell_type": "markdown",
      "metadata": {
        "id": "s2X0_Oz_SkHi"
      },
      "source": [
        "Below is example of loading the first batch of training data labelled as `data_batch_1`.  You will need to update the path to match where you have stored your cifar-10 data."
      ]
    },
    {
      "cell_type": "code",
      "metadata": {
        "id": "SudeLpyHCd-X",
        "colab": {
          "base_uri": "https://localhost:8080/"
        },
        "outputId": "47c9bfb9-584b-4c39-a089-e54c9e94d42b"
      },
      "source": [
        "flatten = False\n",
        "categorical = True\n",
        "\n",
        "# load only the first batch\n",
        "#X1, y1 = load_CIFAR_batch('/content/drive/My Drive/cifar-10-batches-py/data_batch_1',flatten=flatten,categorical=categorical)\n",
        "\n",
        "# load only the second batch\n",
        "#X2, y2 = load_CIFAR_batch('/content/drive/My Drive/COMP2712/data/cifar-10-batches-py/data_batch_2',flatten=flatten,categorical=categorical)\n",
        "\n",
        "# Load the first batch from CIFAR-10\n",
        "X, y = load_CIFAR_batch('/content/drive/My Drive/cifar-10-batches-py/data_batch_1',flatten=flatten,categorical=categorical)\n",
        "\n",
        "# iterate over 2 to 5\n",
        "#for bi in range(2,6):\n",
        "  # load the next data set 'bi'\n",
        "#  X2, y2 = load_CIFAR_batch('/content/drive/My Drive/cifar-10-batches-py/data_batch_{}'.format(bi),flatten=flatten,categorical=categorical)\n",
        "\n",
        "  # concatenate/stack the dataest together\n",
        " # X = np.vstack([X, X2])\n",
        " # y = np.vstack([y, y2])\n",
        "\n",
        "\n",
        "print('We have {} instances of images'.format(y.shape[0]))\n"
      ],
      "execution_count": null,
      "outputs": [
        {
          "output_type": "stream",
          "name": "stdout",
          "text": [
            "We have 10000 instances of images\n"
          ]
        }
      ]
    },
    {
      "cell_type": "markdown",
      "metadata": {
        "id": "oMUnAt_YKPjp"
      },
      "source": [
        "The number of instances/examples for all the different classes.  There are 10 different classes."
      ]
    },
    {
      "cell_type": "code",
      "metadata": {
        "id": "8-uX5AZmQG9N",
        "colab": {
          "base_uri": "https://localhost:8080/"
        },
        "outputId": "1fc16018-1cc4-4230-9d37-74c1001f7ec4"
      },
      "source": [
        "[np.sum(np.argmax(y, axis=1) == i) for i in range(0,10)]"
      ],
      "execution_count": null,
      "outputs": [
        {
          "output_type": "execute_result",
          "data": {
            "text/plain": [
              "[1005, 974, 1032, 1016, 999, 937, 1030, 1001, 1025, 981]"
            ]
          },
          "metadata": {},
          "execution_count": 4
        }
      ]
    },
    {
      "cell_type": "markdown",
      "metadata": {
        "id": "fD_HIgldKlsd"
      },
      "source": [
        "The labels for the classes are stored in the `batches.meta` file"
      ]
    },
    {
      "cell_type": "code",
      "metadata": {
        "id": "-HKjGtxStmcz",
        "colab": {
          "base_uri": "https://localhost:8080/"
        },
        "outputId": "1743e913-232e-43a9-e480-c4c7deeb5c30"
      },
      "source": [
        "class_labels = load_CIFAR_meta('/content/drive/My Drive/cifar-10-batches-py/batches.meta')\n",
        "print(class_labels)"
      ],
      "execution_count": null,
      "outputs": [
        {
          "output_type": "stream",
          "name": "stdout",
          "text": [
            "['airplane', 'automobile', 'bird', 'cat', 'deer', 'dog', 'frog', 'horse', 'ship', 'truck']\n"
          ]
        }
      ]
    },
    {
      "cell_type": "markdown",
      "metadata": {
        "id": "AYNjse_BTLnx"
      },
      "source": [
        "Let's look at some random cat images, because cats."
      ]
    },
    {
      "cell_type": "markdown",
      "metadata": {
        "id": "v557teUwb50v"
      },
      "source": [
        "## Set up and train with a Single Hidden Layer\n",
        "\n",
        "Let's start \"easy\" with a single hidden layer like an MLP but using the Tensor and Keras modules."
      ]
    },
    {
      "cell_type": "markdown",
      "metadata": {
        "id": "M3ElYaZ_zUsp"
      },
      "source": [
        "### Build the model\n",
        "\n",
        "Building the neural network requires configuring the layers of the model, then compiling the model. First we stack a few layers together using `keras.Sequential`. Next we configure the loss function, optimizer, and metrics to monitor. These are added during the model's compile step:\n",
        "\n",
        "* *Loss function* - measures how accurate the model is during training, we want to minimize this with the optimizer.\n",
        "* *Optimizer* - how the model is updated based on the data it sees and its loss function.\n",
        "* *Metrics* - used to monitor the training and testing steps.\n",
        "\n",
        "Use `categorical_crossentropy` as the loss function (most common one for classfication problems):"
      ]
    },
    {
      "cell_type": "code",
      "metadata": {
        "id": "AZk2OEWpb83j"
      },
      "source": [
        "# TensorFlow and tf.keras\n",
        "import tensorflow as tf\n",
        "from tensorflow import keras\n",
        "from tensorflow.keras.layers import Dense\n",
        "\n",
        "def build_simple_model(number_of_features, number_hidden_nodes, number_of_output, activation='relu'):\n",
        "\n",
        "    print('Number of input features: {}'.format(number_of_features))\n",
        "    print('Number of hidden nodes: {}'.format(number_hidden_nodes))\n",
        "    print('Activation Function on hidden layer: {}'.format(activation))\n",
        "    print('Number of out classes: {}'.format(number_of_output))\n",
        "\n",
        "    model = keras.Sequential()\n",
        "    # a fully connected (dense) 'hidden' layer\n",
        "    model.add(Dense(number_hidden_nodes, activation=activation, input_shape=[number_of_features]))\n",
        "    # an output layer for classification\n",
        "    model.add(Dense(number_of_output, activation=tf.nn.sigmoid))\n",
        "\n",
        "    model.compile(optimizer=tf.optimizers.Adam(),\n",
        "                  loss=keras.losses.categorical_crossentropy,\n",
        "                  metrics=keras.metrics.categorical_crossentropy)\n",
        "    return model"
      ],
      "execution_count": null,
      "outputs": []
    },
    {
      "cell_type": "markdown",
      "metadata": {
        "id": "0bmQvxzq2rjz"
      },
      "source": [
        "### Flatten the data\n",
        "The data is currently a 3D image, but for the simple model we require a 1D feature vector.  So, we need to flatten the data."
      ]
    },
    {
      "cell_type": "code",
      "metadata": {
        "id": "-5qBU8F32Uug",
        "colab": {
          "base_uri": "https://localhost:8080/"
        },
        "outputId": "01b8ee6b-f7b1-48c0-8ab6-8cd5978f2fcb"
      },
      "source": [
        "# we need to flatten the images for the simple model\n",
        "n_samples = len(X)\n",
        "X_flatten = X.reshape((n_samples, -1))\n",
        "\n",
        "print('The number of samples: {}'.format(n_samples))\n",
        "print('The old shape of the data: {}'.format(X.shape))\n",
        "print('The new shape of the data: {}'.format(X_flatten.shape))\n",
        "print('The shape of the y       : {}'.format(y.shape))"
      ],
      "execution_count": null,
      "outputs": [
        {
          "output_type": "stream",
          "name": "stdout",
          "text": [
            "The number of samples: 10000\n",
            "The old shape of the data: (10000, 32, 32, 3)\n",
            "The new shape of the data: (10000, 3072)\n",
            "The shape of the y       : (10000, 10)\n"
          ]
        }
      ]
    },
    {
      "cell_type": "markdown",
      "metadata": {
        "id": "CHQRFduHz1bd"
      },
      "source": [
        "### Train the model\n",
        "\n",
        "Training the neural network model requires the following steps:\n",
        "\n",
        "1. Feed the training data to the model\n",
        "2. The model learns to associate features and labels.\n",
        "3. We ask the model to make predictions about a test set\n",
        "\n",
        "To start training,  call the `model.fit` method—the model is \"fit\" to the training data:"
      ]
    },
    {
      "cell_type": "code",
      "metadata": {
        "id": "oZPXxhN2z02z",
        "colab": {
          "base_uri": "https://localhost:8080/"
        },
        "outputId": "f8d36674-b363-46b3-d6f1-da854f418af0"
      },
      "source": [
        "# sklearn evaluation packages\n",
        "from sklearn.model_selection import StratifiedKFold\n",
        "from sklearn.metrics import classification_report\n",
        "from sklearn.metrics import confusion_matrix\n",
        "from sklearn.metrics import accuracy_score\n",
        "from sklearn.metrics import matthews_corrcoef\n",
        "\n",
        "# use 5 epochs or iterations\n",
        "no_epochs = 5\n",
        "number_of_features = len(X_flatten[0])\n",
        "\n",
        "# with 50 nodes in the single hidden layer\n",
        "number_hidden_nodes = 50\n",
        "number_of_output = len(y[0])\n",
        "\n",
        "# relu is a good choice\n",
        "activation = 'relu' # select from [None, 'sigmoid', 'tanh', 'relu']:\n",
        "y_class = np.argmax(y, axis=1)\n",
        "\n",
        "# build a sample model to see the summary\n",
        "model = build_simple_model(number_of_features, number_hidden_nodes, number_of_output, activation=activation)\n",
        "model.summary()\n",
        "\n",
        "\n",
        "# Stratified K-Fold for evaluation of generalisation performance\n",
        "k = 5 # 10 is the gold standard\n",
        "kf = StratifiedKFold(n_splits=k)\n",
        "foldi = 1\n",
        "ac = [] # accuracy_score\n",
        "cr = [] # classification_report\n",
        "cm = [] # confusion_matrix\n",
        "y_test_max_all = []\n",
        "y_pred_max_all = []\n",
        "\n",
        "\n",
        "for train_index, test_index in kf.split(X_flatten,y_class):\n",
        "  X_train, X_test, y_train, y_test = X_flatten[train_index,:], X_flatten[test_index,:], y[train_index,:], y[test_index,:]\n",
        "\n",
        "  model = build_simple_model(number_of_features, number_hidden_nodes, number_of_output, activation=activation)\n",
        "\n",
        "  print('Training with {0} for {1} for fold {2} or {3}'.format(activation, no_epochs, foldi, k))\n",
        "  history = model.fit(X_train, y_train, epochs=no_epochs, verbose=1)\n",
        "\n",
        "  hist = pd.DataFrame(history.history)\n",
        "  hist['epoch'] = history.epoch\n",
        "\n",
        "\n",
        "  loss_final = np.sqrt(float(hist['loss'].tail(1)))\n",
        "  print()\n",
        "  print('Final Loss on training set: {}'.format(round(loss_final, 3)))\n",
        "\n",
        "  # evaluate the model\n",
        "  y_pred_real = model.predict(X_test)\n",
        "  y_pred_max = np.argmax(y_pred_real, axis=-1).astype(int)\n",
        "  y_test_max = y_test.argmax(axis=1).astype(int)\n",
        "\n",
        "  y_pred_max_all.extend(y_pred_max)\n",
        "  y_test_max_all.extend(y_test_max)\n",
        "\n",
        "  ac.append(accuracy_score(y_test_max,y_pred_max))\n",
        "  print('accuracy is {:.2f}%'.format(ac[-1]*100)) # Print accuracy score\n",
        "  print()\n",
        "  cr.append(classification_report(y_test_max,y_pred_max)) # Print summary report\n",
        "  cm.append(confusion_matrix(y_test_max, y_pred_max))\n",
        "\n",
        "  foldi = foldi + 1\n",
        "\n",
        "print('k-fold complete!')"
      ],
      "execution_count": null,
      "outputs": [
        {
          "output_type": "stream",
          "name": "stdout",
          "text": [
            "Number of input features: 3072\n",
            "Number of hidden nodes: 50\n",
            "Activation Function on hidden layer: relu\n",
            "Number of out classes: 10\n",
            "Model: \"sequential\"\n",
            "_________________________________________________________________\n",
            " Layer (type)                Output Shape              Param #   \n",
            "=================================================================\n",
            " dense (Dense)               (None, 50)                153650    \n",
            "                                                                 \n",
            " dense_1 (Dense)             (None, 10)                510       \n",
            "                                                                 \n",
            "=================================================================\n",
            "Total params: 154160 (602.19 KB)\n",
            "Trainable params: 154160 (602.19 KB)\n",
            "Non-trainable params: 0 (0.00 Byte)\n",
            "_________________________________________________________________\n",
            "Number of input features: 3072\n",
            "Number of hidden nodes: 50\n",
            "Activation Function on hidden layer: relu\n",
            "Number of out classes: 10\n",
            "Training with relu for 5 for fold 1 or 5\n",
            "Epoch 1/5\n",
            "250/250 [==============================] - 10s 3ms/step - loss: 2.1833 - categorical_crossentropy: 2.1833\n",
            "Epoch 2/5\n",
            "250/250 [==============================] - 1s 3ms/step - loss: 2.0449 - categorical_crossentropy: 2.0449\n",
            "Epoch 3/5\n",
            "250/250 [==============================] - 1s 3ms/step - loss: 1.9574 - categorical_crossentropy: 1.9574\n",
            "Epoch 4/5\n",
            "250/250 [==============================] - 1s 3ms/step - loss: 1.9090 - categorical_crossentropy: 1.9090\n",
            "Epoch 5/5\n",
            "250/250 [==============================] - 1s 3ms/step - loss: 1.8738 - categorical_crossentropy: 1.8738\n",
            "\n",
            "Final Loss on training set: 1.369\n",
            "63/63 [==============================] - 0s 2ms/step\n",
            "accuracy is 32.05%\n",
            "\n",
            "Number of input features: 3072\n",
            "Number of hidden nodes: 50\n",
            "Activation Function on hidden layer: relu\n",
            "Number of out classes: 10\n",
            "Training with relu for 5 for fold 2 or 5\n",
            "Epoch 1/5\n",
            "250/250 [==============================] - 1s 3ms/step - loss: 2.1652 - categorical_crossentropy: 2.1652\n",
            "Epoch 2/5\n",
            "250/250 [==============================] - 1s 3ms/step - loss: 1.9679 - categorical_crossentropy: 1.9679\n",
            "Epoch 3/5\n",
            "250/250 [==============================] - 1s 3ms/step - loss: 1.9112 - categorical_crossentropy: 1.9112\n",
            "Epoch 4/5\n",
            "250/250 [==============================] - 1s 3ms/step - loss: 1.8705 - categorical_crossentropy: 1.8705\n",
            "Epoch 5/5\n",
            "250/250 [==============================] - 1s 3ms/step - loss: 1.8391 - categorical_crossentropy: 1.8391\n",
            "\n",
            "Final Loss on training set: 1.356\n",
            "63/63 [==============================] - 0s 2ms/step\n",
            "accuracy is 32.75%\n",
            "\n",
            "Number of input features: 3072\n",
            "Number of hidden nodes: 50\n",
            "Activation Function on hidden layer: relu\n",
            "Number of out classes: 10\n",
            "Training with relu for 5 for fold 3 or 5\n",
            "Epoch 1/5\n",
            "250/250 [==============================] - 1s 3ms/step - loss: 2.2480 - categorical_crossentropy: 2.2480\n",
            "Epoch 2/5\n",
            "250/250 [==============================] - 1s 3ms/step - loss: 2.1369 - categorical_crossentropy: 2.1369\n",
            "Epoch 3/5\n",
            "250/250 [==============================] - 1s 3ms/step - loss: 2.0130 - categorical_crossentropy: 2.0130\n",
            "Epoch 4/5\n",
            "250/250 [==============================] - 1s 4ms/step - loss: 1.9136 - categorical_crossentropy: 1.9136\n",
            "Epoch 5/5\n",
            "250/250 [==============================] - 1s 4ms/step - loss: 1.8627 - categorical_crossentropy: 1.8627\n",
            "\n",
            "Final Loss on training set: 1.365\n",
            "63/63 [==============================] - 0s 3ms/step\n",
            "accuracy is 30.90%\n",
            "\n",
            "Number of input features: 3072\n",
            "Number of hidden nodes: 50\n",
            "Activation Function on hidden layer: relu\n",
            "Number of out classes: 10\n",
            "Training with relu for 5 for fold 4 or 5\n",
            "Epoch 1/5\n",
            "250/250 [==============================] - 2s 3ms/step - loss: 2.1622 - categorical_crossentropy: 2.1622\n",
            "Epoch 2/5\n",
            "250/250 [==============================] - 1s 3ms/step - loss: 2.0443 - categorical_crossentropy: 2.0443\n",
            "Epoch 3/5\n",
            "250/250 [==============================] - 1s 3ms/step - loss: 1.9911 - categorical_crossentropy: 1.9911\n",
            "Epoch 4/5\n",
            "250/250 [==============================] - 1s 3ms/step - loss: 1.9064 - categorical_crossentropy: 1.9064\n",
            "Epoch 5/5\n",
            "250/250 [==============================] - 1s 3ms/step - loss: 1.8638 - categorical_crossentropy: 1.8638\n",
            "\n",
            "Final Loss on training set: 1.365\n",
            "63/63 [==============================] - 0s 2ms/step\n",
            "accuracy is 32.30%\n",
            "\n",
            "Number of input features: 3072\n",
            "Number of hidden nodes: 50\n",
            "Activation Function on hidden layer: relu\n",
            "Number of out classes: 10\n",
            "Training with relu for 5 for fold 5 or 5\n",
            "Epoch 1/5\n",
            "250/250 [==============================] - 1s 3ms/step - loss: 2.2299 - categorical_crossentropy: 2.2299\n",
            "Epoch 2/5\n",
            "250/250 [==============================] - 1s 3ms/step - loss: 2.1192 - categorical_crossentropy: 2.1192\n",
            "Epoch 3/5\n",
            "250/250 [==============================] - 1s 3ms/step - loss: 1.9938 - categorical_crossentropy: 1.9938\n",
            "Epoch 4/5\n",
            "250/250 [==============================] - 1s 5ms/step - loss: 1.9343 - categorical_crossentropy: 1.9343\n",
            "Epoch 5/5\n",
            "250/250 [==============================] - 1s 4ms/step - loss: 1.8912 - categorical_crossentropy: 1.8912\n",
            "\n",
            "Final Loss on training set: 1.375\n",
            "63/63 [==============================] - 0s 3ms/step\n",
            "accuracy is 29.65%\n",
            "\n",
            "k-fold complete!\n"
          ]
        }
      ]
    },
    {
      "cell_type": "code",
      "metadata": {
        "id": "0WFeY2vr-AI9",
        "colab": {
          "base_uri": "https://localhost:8080/"
        },
        "outputId": "ccb95156-d24c-4455-8d02-7f85c0148de3"
      },
      "source": [
        "print('Average Accuracy for {}-CV: {}% +/- {}% SD'.format(k, np.round(np.mean(ac)*100,2), np.round(np.std(ac)*100,2)))"
      ],
      "execution_count": null,
      "outputs": [
        {
          "output_type": "stream",
          "name": "stdout",
          "text": [
            "Average Accuracy for 5-CV: 31.53% +/- 1.12% SD\n"
          ]
        }
      ]
    },
    {
      "cell_type": "code",
      "metadata": {
        "colab": {
          "base_uri": "https://localhost:8080/"
        },
        "id": "Lwysr2B4Szvc",
        "outputId": "80cd75d0-c812-4693-82eb-09f1cc316c54"
      },
      "source": [
        "acc_all = accuracy_score(y_test_max_all,y_pred_max_all)*100\n",
        "print('Accuracy: {:.2f}%'.format(acc_all))\n",
        "print()\n",
        "print(classification_report(y_test_max_all,y_pred_max_all))\n",
        "print(confusion_matrix(y_test_max_all, y_pred_max_all))\n",
        "\n",
        "mcc_all = matthews_corrcoef(y_test_max_all,y_pred_max_all)\n",
        "print()\n",
        "print('Matthews Correlation Coefficient: {}'.format(mcc_all))"
      ],
      "execution_count": null,
      "outputs": [
        {
          "output_type": "stream",
          "name": "stdout",
          "text": [
            "Accuracy: 31.53%\n",
            "\n",
            "              precision    recall  f1-score   support\n",
            "\n",
            "           0       0.37      0.32      0.34      1005\n",
            "           1       0.38      0.32      0.34       974\n",
            "           2       0.22      0.14      0.17      1032\n",
            "           3       0.25      0.19      0.21      1016\n",
            "           4       0.28      0.20      0.23       999\n",
            "           5       0.27      0.24      0.25       937\n",
            "           6       0.29      0.50      0.36      1030\n",
            "           7       0.37      0.24      0.29      1001\n",
            "           8       0.34      0.54      0.42      1025\n",
            "           9       0.36      0.46      0.40       981\n",
            "\n",
            "    accuracy                           0.32     10000\n",
            "   macro avg       0.31      0.31      0.30     10000\n",
            "weighted avg       0.31      0.32      0.30     10000\n",
            "\n",
            "[[320  50  61  32  15  20  33  40 355  79]\n",
            " [ 45 311  21  50  19  31  78  25 155 239]\n",
            " [ 99  45 142  52 169  69 251  66 110  29]\n",
            " [ 34  84  66 191  48 172 207  55  76  83]\n",
            " [ 70  28 113  52 201  80 285  82  45  43]\n",
            " [ 33  37  66 157  62 224 201  53  61  43]\n",
            " [  9  41  55 105  68 113 510  55  21  53]\n",
            " [ 70  43  99  70 119  57 145 242  57  99]\n",
            " [130  51  18  36   9  42  15  12 557 155]\n",
            " [ 53 139  18  21   8  13  62  31 181 455]]\n",
            "\n",
            "Matthews Correlation Coefficient: 0.24090219641324914\n"
          ]
        }
      ]
    },
    {
      "cell_type": "code",
      "metadata": {
        "id": "OCHxfSKQ-WF-",
        "colab": {
          "base_uri": "https://localhost:8080/",
          "height": 845
        },
        "outputId": "2011b6b7-bc07-44c4-d8cd-bccd9079bc9b"
      },
      "source": [
        "from matplotlib import pyplot as plt\n",
        "import seaborn as sns\n",
        "\n",
        "cm_all = np.sum(np.stack(cm,axis=2),axis=2)\n",
        "df_cm = pd.DataFrame(cm_all, columns=class_labels, index=class_labels)\n",
        "fig, ax1 = plt.subplots(1,1, figsize=(10,10))\n",
        "sns.heatmap(df_cm, annot=True, ax=ax1,square=True,  cmap=\"YlGnBu\",vmin=0,vmax=5000,fmt='d')\n",
        "ax1.set_title('Overall acc: {:.2f}% and mcc: {:.3f}'.format(acc_all,mcc_all))\n",
        "ax1.set_xlabel('Predicted')\n",
        "ax1.set_ylabel('Actual');"
      ],
      "execution_count": null,
      "outputs": [
        {
          "output_type": "display_data",
          "data": {
            "text/plain": [
              "<Figure size 1000x1000 with 2 Axes>"
            ],
            "image/png": "[encoded data removed]"
          },
          "metadata": {}
        }
      ]
    }
  ]
}